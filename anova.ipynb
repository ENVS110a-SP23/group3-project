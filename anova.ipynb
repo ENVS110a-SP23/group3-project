{
 "cells": [
  {
   "cell_type": "code",
   "execution_count": 1,
   "metadata": {},
   "outputs": [],
   "source": [
    "import pandas as pd\n",
    "import numpy as np\n",
    "from statsmodels.formula.api import ols\n",
    "from statsmodels.stats.anova import AnovaRM\n",
    "# from statsmodels.stats.multicomp import pairwise_tukeyhsd"
   ]
  },
  {
   "cell_type": "code",
   "execution_count": 2,
   "metadata": {},
   "outputs": [],
   "source": [
    "# import data\n",
    "data = pd.ExcelFile('/Users/jessebecklevisohn/Documents/GitHub/group3-project/Cleaned_data_Notcollinear?.xlsx')\n",
    "data1 = pd.ExcelFile('/Users/jessebecklevisohn/Documents/GitHub/group3-project/Cleaned_data.xlsx')"
   ]
  },
  {
   "cell_type": "code",
   "execution_count": 3,
   "metadata": {},
   "outputs": [],
   "source": [
    "#loading all sheets as seperate dataframe objects\n",
    "\n",
    "mcav_control = pd.read_excel(data, sheet_name ='Mcav Control')\n",
    "\n",
    "mcav_elevated_PCO2 = pd.read_excel(data, sheet_name ='Mcav Elevated PCO2')\n",
    "\n",
    "ofav_control = pd.read_excel(data, sheet_name ='Ofav Control')\n",
    "\n",
    "ofav_elevated_PCO2 = pd.read_excel(data, sheet_name = 'Ofav Elevated P CO2')\n",
    "\n",
    "pcli_control = pd.read_excel(data, sheet_name = 'Pcli Control')\n",
    "\n",
    "pcli_elevated_PCO2 = pd.read_excel(data, sheet_name = 'Pcli Elevated PCO2')"
   ]
  },
  {
   "cell_type": "code",
   "execution_count": 4,
   "metadata": {},
   "outputs": [],
   "source": [
    "# Combines control and elevated pCO2 sheets into one pandas dataframe\n",
    "mcav = pd.concat([mcav_control, mcav_elevated_PCO2], axis=0).reset_index(drop=True)\n",
    "ofav = pd.concat([ofav_control, ofav_elevated_PCO2], axis=0).reset_index(drop=True)\n",
    "pcli = pd.concat([pcli_control, pcli_elevated_PCO2], axis=0).reset_index(drop=True)"
   ]
  },
  {
   "cell_type": "code",
   "execution_count": 5,
   "metadata": {},
   "outputs": [
    {
     "data": {
      "text/plain": [
       "(80, 9)"
      ]
     },
     "execution_count": 5,
     "metadata": {},
     "output_type": "execute_result"
    }
   ],
   "source": [
    "# Adding all the sheets to a list\n",
    "species = {\"mcav\":mcav, \"ofav\":ofav, \"pcli\":pcli}\n",
    "pcli.shape"
   ]
  },
  {
   "cell_type": "code",
   "execution_count": 6,
   "metadata": {},
   "outputs": [],
   "source": [
    "# Rename the columns of the sheet\n",
    "for key in species:\n",
    "    species[key] = species[key].rename(columns={\"Percent change Surface Area Density\": \"SAD\", \n",
    "                                  \"Calcification rate (mgCaCO3/cm2/day)\": \"calcification_rate\", \n",
    "                                  \"Tissue growth (mm2/day)\": \"tissue_growth\",\n",
    "                                  \"Exposure Period\": \"exposure_period\"})"
   ]
  },
  {
   "cell_type": "code",
   "execution_count": 7,
   "metadata": {},
   "outputs": [],
   "source": [
    "# Get rid of all null values in the columns that we care about\n",
    "for key in species:\n",
    "    species[key] = species[key].loc[\n",
    "        (species[key][\"calcification_rate\"].notnull()) & \n",
    "        (species[key][\"tissue_growth\"].notnull()) & \n",
    "        (species[key][\"SAD\"].notnull()) &\n",
    "        (species[key][\"exposure_period\"].notnull()),:]"
   ]
  },
  {
   "cell_type": "code",
   "execution_count": 31,
   "metadata": {},
   "outputs": [],
   "source": [
    "dependent_variables = [\"calcification_rate\", \"tissue_growth\", \"SAD\"]\n",
    "elevated_pCO2 = {\"mcav\":{}, \"ofav\": {}, \"pcli\": {}}\n",
    "pCO2_by_exposure_period = {\"mcav\":{}, \"ofav\": {}, \"pcli\": {}}\n",
    "\n",
    "# Iterate over each species and each dependant variable that we care about\n",
    "for key in species:\n",
    "    for var in dependent_variables:\n",
    "        # Conduct a repeated measures ANOVA and save the result to a dictionary of dictionaries\n",
    "        anova_rm = AnovaRM(data=species[key], depvar=var, subject='Sample', within=['Elevated', 'exposure_period']).fit()\n",
    "        \n",
    "        # Create a tuple with the p values for elevated, and elevated*exposure_period and put it in the two dictionaries\n",
    "        elevated_pCO2[key][var] = anova_rm.anova_table[\"Pr > F\"][0]\n",
    "        pCO2_by_exposure_period[key][var] = anova_rm.anova_table[\"Pr > F\"][2]\n",
    "\n"
   ]
  },
  {
   "cell_type": "code",
   "execution_count": 32,
   "metadata": {},
   "outputs": [
    {
     "data": {
      "text/html": [
       "<style type=\"text/css\">\n",
       "#T_66742_row0_col0 {\n",
       "  background-color: #0969ad;\n",
       "  color: #f1f1f1;\n",
       "}\n",
       "#T_66742_row0_col1 {\n",
       "  background-color: #56b7d0;\n",
       "  color: #f1f1f1;\n",
       "}\n",
       "#T_66742_row0_col2 {\n",
       "  background-color: #1d7eb7;\n",
       "  color: #f1f1f1;\n",
       "}\n",
       "#T_66742_row1_col0 {\n",
       "  background-color: #d7efd1;\n",
       "  color: #000000;\n",
       "}\n",
       "#T_66742_row1_col1 {\n",
       "  background-color: #def2d9;\n",
       "  color: #000000;\n",
       "}\n",
       "#T_66742_row1_col2 {\n",
       "  background-color: #98d7ba;\n",
       "  color: #000000;\n",
       "}\n",
       "#T_66742_row2_col0 {\n",
       "  background-color: #a2dbb7;\n",
       "  color: #000000;\n",
       "}\n",
       "#T_66742_row2_col1 {\n",
       "  background-color: #e9f6e3;\n",
       "  color: #000000;\n",
       "}\n",
       "#T_66742_row2_col2 {\n",
       "  background-color: #76c9c6;\n",
       "  color: #000000;\n",
       "}\n",
       "</style>\n",
       "<table id=\"T_66742\">\n",
       "  <caption>P values for Coral in Elevated vs. Control pCO2</caption>\n",
       "  <thead>\n",
       "    <tr>\n",
       "      <th class=\"blank level0\" >&nbsp;</th>\n",
       "      <th id=\"T_66742_level0_col0\" class=\"col_heading level0 col0\" >Montastraea cavernosa</th>\n",
       "      <th id=\"T_66742_level0_col1\" class=\"col_heading level0 col1\" >Orbicella faveolata</th>\n",
       "      <th id=\"T_66742_level0_col2\" class=\"col_heading level0 col2\" >Pseudodiploria clivosa</th>\n",
       "    </tr>\n",
       "  </thead>\n",
       "  <tbody>\n",
       "    <tr>\n",
       "      <th id=\"T_66742_level0_row0\" class=\"row_heading level0 row0\" >Calcification rate (mgCaCO3/cm2/day)</th>\n",
       "      <td id=\"T_66742_row0_col0\" class=\"data row0 col0\" >0.877022</td>\n",
       "      <td id=\"T_66742_row0_col1\" class=\"data row0 col1\" >0.623588</td>\n",
       "      <td id=\"T_66742_row0_col2\" class=\"data row0 col2\" >0.810138</td>\n",
       "    </tr>\n",
       "    <tr>\n",
       "      <th id=\"T_66742_level0_row1\" class=\"row_heading level0 row1\" >Tissue growth (mm2/day)</th>\n",
       "      <td id=\"T_66742_row1_col0\" class=\"data row1 col0\" >0.225775</td>\n",
       "      <td id=\"T_66742_row1_col1\" class=\"data row1 col1\" >0.181145</td>\n",
       "      <td id=\"T_66742_row1_col2\" class=\"data row1 col2\" >0.449543</td>\n",
       "    </tr>\n",
       "    <tr>\n",
       "      <th id=\"T_66742_level0_row2\" class=\"row_heading level0 row2\" >Percent change Surface Area Density</th>\n",
       "      <td id=\"T_66742_row2_col0\" class=\"data row2 col0\" >0.424498</td>\n",
       "      <td id=\"T_66742_row2_col1\" class=\"data row2 col1\" >0.125122</td>\n",
       "      <td id=\"T_66742_row2_col2\" class=\"data row2 col2\" >0.537035</td>\n",
       "    </tr>\n",
       "  </tbody>\n",
       "</table>\n"
      ],
      "text/plain": [
       "<pandas.io.formats.style.Styler at 0x1691b46d0>"
      ]
     },
     "execution_count": 32,
     "metadata": {},
     "output_type": "execute_result"
    }
   ],
   "source": [
    "elevated_pCO2 = pd.DataFrame(elevated_pCO2)\n",
    "elevated_pCO2 = elevated_pCO2.rename(columns={\"mcav\":\"Montastraea cavernosa\", \"pcli\":\"Pseudodiploria clivosa\", \"ofav\":\"Orbicella faveolata\"})\n",
    "elevated_pCO2 = elevated_pCO2.rename(index={\"calcification_rate\":\"Calcification rate (mgCaCO3/cm2/day)\", \"SAD\":\"Percent change Surface Area Density\", \"tissue_growth\":\"Tissue growth (mm2/day)\"})\n",
    "elevated_pCO2 = elevated_pCO2.style.set_caption(\"P values for Coral in Elevated vs. Control pCO2\")\n",
    "elevated_pCO2 = elevated_pCO2.background_gradient(axis=None, vmin=0.05, vmax=1, cmap=\"GnBu\")\n",
    "elevated_pCO2"
   ]
  },
  {
   "cell_type": "code",
   "execution_count": 33,
   "metadata": {},
   "outputs": [
    {
     "data": {
      "text/html": [
       "<style type=\"text/css\">\n",
       "#T_e94d6_row0_col0 {\n",
       "  background-color: #085fa3;\n",
       "  color: #f1f1f1;\n",
       "}\n",
       "#T_e94d6_row0_col1 {\n",
       "  background-color: #3496c3;\n",
       "  color: #f1f1f1;\n",
       "}\n",
       "#T_e94d6_row0_col2 {\n",
       "  background-color: #f1f9ea;\n",
       "  color: #000000;\n",
       "}\n",
       "#T_e94d6_row1_col0 {\n",
       "  background-color: #97d6bb;\n",
       "  color: #000000;\n",
       "}\n",
       "#T_e94d6_row1_col1 {\n",
       "  background-color: #085799;\n",
       "  color: #f1f1f1;\n",
       "}\n",
       "#T_e94d6_row1_col2 {\n",
       "  background-color: #1c7cb6;\n",
       "  color: #f1f1f1;\n",
       "}\n",
       "#T_e94d6_row2_col0 {\n",
       "  background-color: #76c9c6;\n",
       "  color: #000000;\n",
       "}\n",
       "#T_e94d6_row2_col1 {\n",
       "  background-color: #2f90c0;\n",
       "  color: #f1f1f1;\n",
       "}\n",
       "#T_e94d6_row2_col2 {\n",
       "  background-color: #80cec2;\n",
       "  color: #000000;\n",
       "}\n",
       "</style>\n",
       "<table id=\"T_e94d6\">\n",
       "  <caption>P values for the Combined Effects of pCO2 Levels and Exposure Period</caption>\n",
       "  <thead>\n",
       "    <tr>\n",
       "      <th class=\"blank level0\" >&nbsp;</th>\n",
       "      <th id=\"T_e94d6_level0_col0\" class=\"col_heading level0 col0\" >Montastraea cavernosa</th>\n",
       "      <th id=\"T_e94d6_level0_col1\" class=\"col_heading level0 col1\" >Orbicella faveolata</th>\n",
       "      <th id=\"T_e94d6_level0_col2\" class=\"col_heading level0 col2\" >Pseudodiploria clivosa</th>\n",
       "    </tr>\n",
       "  </thead>\n",
       "  <tbody>\n",
       "    <tr>\n",
       "      <th id=\"T_e94d6_level0_row0\" class=\"row_heading level0 row0\" >Calcification rate (mgCaCO3/cm2/day)</th>\n",
       "      <td id=\"T_e94d6_row0_col0\" class=\"data row0 col0\" >0.904015</td>\n",
       "      <td id=\"T_e94d6_row0_col1\" class=\"data row0 col1\" >0.731945</td>\n",
       "      <td id=\"T_e94d6_row0_col2\" class=\"data row0 col2\" >0.086428</td>\n",
       "    </tr>\n",
       "    <tr>\n",
       "      <th id=\"T_e94d6_level0_row1\" class=\"row_heading level0 row1\" >Tissue growth (mm2/day)</th>\n",
       "      <td id=\"T_e94d6_row1_col0\" class=\"data row1 col0\" >0.454285</td>\n",
       "      <td id=\"T_e94d6_row1_col1\" class=\"data row1 col1\" >0.932652</td>\n",
       "      <td id=\"T_e94d6_row1_col2\" class=\"data row1 col2\" >0.810963</td>\n",
       "    </tr>\n",
       "    <tr>\n",
       "      <th id=\"T_e94d6_level0_row2\" class=\"row_heading level0 row2\" >Percent change Surface Area Density</th>\n",
       "      <td id=\"T_e94d6_row2_col0\" class=\"data row2 col0\" >0.536866</td>\n",
       "      <td id=\"T_e94d6_row2_col1\" class=\"data row2 col1\" >0.749440</td>\n",
       "      <td id=\"T_e94d6_row2_col2\" class=\"data row2 col2\" >0.510909</td>\n",
       "    </tr>\n",
       "  </tbody>\n",
       "</table>\n"
      ],
      "text/plain": [
       "<pandas.io.formats.style.Styler at 0x1691cb310>"
      ]
     },
     "execution_count": 33,
     "metadata": {},
     "output_type": "execute_result"
    }
   ],
   "source": [
    "pCO2_by_exposure_period = pd.DataFrame(pCO2_by_exposure_period)\n",
    "pCO2_by_exposure_period = pCO2_by_exposure_period.rename(columns={\"mcav\":\"Montastraea cavernosa\", \"pcli\":\"Pseudodiploria clivosa\", \"ofav\":\"Orbicella faveolata\"})\n",
    "pCO2_by_exposure_period = pCO2_by_exposure_period.rename(index={\"calcification_rate\":\"Calcification rate (mgCaCO3/cm2/day)\", \"SAD\":\"Percent change Surface Area Density\", \"tissue_growth\":\"Tissue growth (mm2/day)\"})\n",
    "pCO2_by_exposure_period = pCO2_by_exposure_period.style.set_caption(\"P values for the Combined Effects of pCO2 Levels and Exposure Period\")\n",
    "pCO2_by_exposure_period = pCO2_by_exposure_period.background_gradient(axis=None, vmin=0.05, vmax=1, cmap=\"GnBu\")\n",
    "pCO2_by_exposure_period"
   ]
  },
  {
   "cell_type": "code",
   "execution_count": null,
   "metadata": {},
   "outputs": [],
   "source": [
    "# Tukey test for if any of the AnovaRM tests show a relevant correlation\n",
    "\n",
    "# dependent_variables = [\"calcification_rate\", \"tissue_growth\", \"SAD\"]\n",
    "# tukeys = {\"mcav\":{}, \"ofav\": {}, \"pcli\": {}}\n",
    "\n",
    "# # Iterate over each species and each dependant variable that we care about\n",
    "# for key in species:\n",
    "#     for var in dependent_variables:\n",
    "#         tukey = pairwise_tukeyhsd(endog=species[key][var], groups=species[key][\"Elevated\"], alpha=0.05) # Conduct a Tukey Test across the pCO2 levels \n",
    "#         tukeys[key][var] = tukey # Save the result of the tukey test to a dictionary of dictionaries\n",
    "\n",
    "# print(tukeys[\"mcav\"][\"calcification_rate\"])"
   ]
  }
 ],
 "metadata": {
  "kernelspec": {
   "display_name": "Python 3.9.12 ('base')",
   "language": "python",
   "name": "python3"
  },
  "language_info": {
   "codemirror_mode": {
    "name": "ipython",
    "version": 3
   },
   "file_extension": ".py",
   "mimetype": "text/x-python",
   "name": "python",
   "nbconvert_exporter": "python",
   "pygments_lexer": "ipython3",
   "version": "3.9.12"
  },
  "orig_nbformat": 4,
  "vscode": {
   "interpreter": {
    "hash": "b52b534d3e8b2df8a7f375ea8b488ed7c2e546a5d77230d70bd2c6badbd8c861"
   }
  }
 },
 "nbformat": 4,
 "nbformat_minor": 2
}
