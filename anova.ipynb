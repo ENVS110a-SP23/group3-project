{
 "cells": [
  {
   "cell_type": "code",
   "execution_count": 2,
   "metadata": {},
   "outputs": [],
   "source": [
    "import pandas as pd\n",
    "import numpy as np\n",
    "from statsmodels.formula.api import ols\n",
    "from statsmodels.stats.anova import anova_lm, AnovaRM\n",
    "from statsmodels.stats.multicomp import pairwise_tukeyhsd"
   ]
  },
  {
   "cell_type": "code",
   "execution_count": 3,
   "metadata": {},
   "outputs": [],
   "source": [
    "# import data\n",
    "data = pd.ExcelFile('/Users/jessebecklevisohn/Documents/GitHub/group3-project/Cleaned_data.xlsx')"
   ]
  },
  {
   "cell_type": "code",
   "execution_count": 43,
   "metadata": {},
   "outputs": [],
   "source": [
    "#loading all sheets as seperate dataframe objects\n",
    "\n",
    "mcav_control = pd.read_excel(data, sheet_name ='Mcav Control')\n",
    "\n",
    "mcav_elevated_PCO2 = pd.read_excel(data, sheet_name ='Mcav Elevated PCO2')\n",
    "\n",
    "ofav_control = pd.read_excel(data, sheet_name ='Ofav Control')\n",
    "\n",
    "ofav_elevated_PCO2 = pd.read_excel(data, sheet_name = 'Ofav Elevated P CO2')\n",
    "\n",
    "pcli_control = pd.read_excel(data, sheet_name = 'Pcli Control')\n",
    "\n",
    "pcli_elevated_PCO2 = pd.read_excel(data, sheet_name = 'Pcli Elevated PCO2')"
   ]
  },
  {
   "cell_type": "code",
   "execution_count": 121,
   "metadata": {},
   "outputs": [],
   "source": [
    "# Combines control and elevated pCO2 sheets into one pandas dataframe\n",
    "mcav = pd.concat([mcav_control, mcav_elevated_PCO2], axis=0).reset_index(drop=True)\n",
    "ofav = pd.concat([ofav_control, ofav_elevated_PCO2], axis=0).reset_index(drop=True)\n",
    "pcli = pd.concat([pcli_control, pcli_elevated_PCO2], axis=0).reset_index(drop=True)"
   ]
  },
  {
   "cell_type": "code",
   "execution_count": 122,
   "metadata": {},
   "outputs": [],
   "source": [
    "# Adding all the sheets to a list\n",
    "species = {\"mcav\":mcav, \"ofav\":ofav, \"pcli\":pcli}"
   ]
  },
  {
   "cell_type": "code",
   "execution_count": 123,
   "metadata": {},
   "outputs": [],
   "source": [
    "# Rename the columns of the sheet\n",
    "for key in species:\n",
    "    species[key] = species[key].rename(columns={\"Percent change Surface Area Density\": \"SAD\", \n",
    "                                  \"Calcification rate (mgCaCO3/cm2/day)\": \"calcification_rate\", \n",
    "                                  \"Tissue growth (mm2/day)\": \"tissue_growth\",\n",
    "                                  \"Exposure Period\": \"exposure_period\"})"
   ]
  },
  {
   "cell_type": "code",
   "execution_count": 124,
   "metadata": {},
   "outputs": [],
   "source": [
    "# Get rid of all null values in the columns that we care about\n",
    "for key in species:\n",
    "    species[key] = species[key].loc[\n",
    "        (species[key][\"calcification_rate\"].notnull()) & \n",
    "        (species[key][\"tissue_growth\"].notnull()) & \n",
    "        (species[key][\"SAD\"].notnull()) &\n",
    "        (species[key][\"exposure_period\"].notnull()),:]"
   ]
  },
  {
   "cell_type": "code",
   "execution_count": 125,
   "metadata": {},
   "outputs": [],
   "source": [
    "# Set up an empty dictionary\n",
    "models = {\"mcav\":[], \"ofav\": [], \"pcli\": []}\n",
    "\n",
    "# Create a list of the formulas for the regressions\n",
    "formulas = [\"calcification_rate ~ -1 + Elevated + exposure_period\", \"tissue_growth ~ -1 + Elevated + exposure_period\", \"SAD ~ -1 + Elevated + exposure_period\"]\n",
    "\n",
    "# Iterate over each species and each dependant variable that we care about\n",
    "for key in species:\n",
    "    for f in formulas:\n",
    "        model = ols(formula=f, data=species[key]).fit() # Fit a ols regression for it \n",
    "        models[key].append(anova_lm(model)) # Append the ols to a list for each species in the dictionary"
   ]
  },
  {
   "cell_type": "code",
   "execution_count": 126,
   "metadata": {},
   "outputs": [
    {
     "name": "stdout",
     "output_type": "stream",
     "text": [
      "Multiple Comparison of Means - Tukey HSD, FWER=0.05\n",
      "==================================================\n",
      "group1 group2 meandiff p-adj  lower  upper  reject\n",
      "--------------------------------------------------\n",
      "     0      1   0.0935   0.9 -1.6122 1.7991  False\n",
      "--------------------------------------------------\n"
     ]
    }
   ],
   "source": [
    "dependent_variables = [\"calcification_rate\", \"tissue_growth\", \"SAD\"]\n",
    "tukeys = {\"mcav\":{}, \"ofav\": {}, \"pcli\": {}}\n",
    "\n",
    "# Iterate over each species and each dependant variable that we care about\n",
    "for key in species:\n",
    "    for var in dependent_variables:\n",
    "        tukey = pairwise_tukeyhsd(endog=species[key][var], groups=species[key][\"Elevated\"], alpha=0.05) # Conduct a Tukey Test across the pCO2 levels \n",
    "        tukeys[key][var] = tukey # Save the result of the tukey test to a dictionary of dictionaries\n",
    "\n",
    "print(tukeys[\"mcav\"][\"calcification_rate\"])"
   ]
  },
  {
   "cell_type": "code",
   "execution_count": 136,
   "metadata": {},
   "outputs": [
    {
     "name": "stdout",
     "output_type": "stream",
     "text": [
      "                        Anova\n",
      "======================================================\n",
      "                         F Value Num DF  Den DF Pr > F\n",
      "------------------------------------------------------\n",
      "Elevated                  0.6998 1.0000  9.0000 0.4245\n",
      "exposure_period          72.4414 2.0000 18.0000 0.0000\n",
      "Elevated:exposure_period  0.6440 2.0000 18.0000 0.5369\n",
      "======================================================\n",
      "\n",
      "                        Anova\n",
      "======================================================\n",
      "                         F Value Num DF  Den DF Pr > F\n",
      "------------------------------------------------------\n",
      "Elevated                  0.0253 1.0000  9.0000 0.8770\n",
      "exposure_period          13.0731 2.0000 18.0000 0.0003\n",
      "Elevated:exposure_period  0.1015 2.0000 18.0000 0.9040\n",
      "======================================================\n",
      "\n",
      "                        Anova\n",
      "======================================================\n",
      "                         F Value Num DF  Den DF Pr > F\n",
      "------------------------------------------------------\n",
      "Elevated                  1.6910 1.0000  9.0000 0.2258\n",
      "exposure_period          93.3113 2.0000 18.0000 0.0000\n",
      "Elevated:exposure_period  0.8247 2.0000 18.0000 0.4543\n",
      "======================================================\n",
      "\n",
      "                        Anova\n",
      "======================================================\n",
      "                         F Value Num DF  Den DF Pr > F\n",
      "------------------------------------------------------\n",
      "Elevated                  0.6998 1.0000  9.0000 0.4245\n",
      "exposure_period          72.4414 2.0000 18.0000 0.0000\n",
      "Elevated:exposure_period  0.6440 2.0000 18.0000 0.5369\n",
      "======================================================\n",
      "\n",
      "                        Anova\n",
      "======================================================\n",
      "                         F Value Num DF  Den DF Pr > F\n",
      "------------------------------------------------------\n",
      "Elevated                  0.2582 1.0000  9.0000 0.6236\n",
      "exposure_period           6.5809 2.0000 18.0000 0.0072\n",
      "Elevated:exposure_period  0.3175 2.0000 18.0000 0.7319\n",
      "======================================================\n",
      "\n",
      "                        Anova\n",
      "======================================================\n",
      "                         F Value Num DF  Den DF Pr > F\n",
      "------------------------------------------------------\n",
      "Elevated                  2.1009 1.0000  9.0000 0.1811\n",
      "exposure_period          31.6238 2.0000 18.0000 0.0000\n",
      "Elevated:exposure_period  0.0700 2.0000 18.0000 0.9327\n",
      "======================================================\n",
      "\n",
      "                        Anova\n",
      "======================================================\n",
      "                         F Value Num DF  Den DF Pr > F\n",
      "------------------------------------------------------\n",
      "Elevated                  2.8590 1.0000  9.0000 0.1251\n",
      "exposure_period          31.3316 2.0000 18.0000 0.0000\n",
      "Elevated:exposure_period  0.2931 2.0000 18.0000 0.7494\n",
      "======================================================\n",
      "\n"
     ]
    },
    {
     "ename": "ValueError",
     "evalue": "Data is unbalanced.",
     "output_type": "error",
     "traceback": [
      "\u001b[0;31m---------------------------------------------------------------------------\u001b[0m",
      "\u001b[0;31mValueError\u001b[0m                                Traceback (most recent call last)",
      "\u001b[0;32m/var/folders/zz/gs5pj8y10s93_yf9nq6d69gh0000gn/T/ipykernel_87511/385160778.py\u001b[0m in \u001b[0;36m<module>\u001b[0;34m\u001b[0m\n\u001b[1;32m      7\u001b[0m \u001b[0;32mfor\u001b[0m \u001b[0mkey\u001b[0m \u001b[0;32min\u001b[0m \u001b[0mspecies\u001b[0m\u001b[0;34m:\u001b[0m\u001b[0;34m\u001b[0m\u001b[0;34m\u001b[0m\u001b[0m\n\u001b[1;32m      8\u001b[0m     \u001b[0;32mfor\u001b[0m \u001b[0mvar\u001b[0m \u001b[0;32min\u001b[0m \u001b[0mdependent_variables\u001b[0m\u001b[0;34m:\u001b[0m\u001b[0;34m\u001b[0m\u001b[0;34m\u001b[0m\u001b[0m\n\u001b[0;32m----> 9\u001b[0;31m         \u001b[0mprint\u001b[0m\u001b[0;34m(\u001b[0m\u001b[0mAnovaRM\u001b[0m\u001b[0;34m(\u001b[0m\u001b[0mdata\u001b[0m\u001b[0;34m=\u001b[0m\u001b[0mspecies\u001b[0m\u001b[0;34m[\u001b[0m\u001b[0mkey\u001b[0m\u001b[0;34m]\u001b[0m\u001b[0;34m,\u001b[0m \u001b[0mdepvar\u001b[0m\u001b[0;34m=\u001b[0m\u001b[0mvar\u001b[0m\u001b[0;34m,\u001b[0m \u001b[0msubject\u001b[0m\u001b[0;34m=\u001b[0m\u001b[0;34m'Sample'\u001b[0m\u001b[0;34m,\u001b[0m \u001b[0mwithin\u001b[0m\u001b[0;34m=\u001b[0m\u001b[0;34m[\u001b[0m\u001b[0;34m'Elevated'\u001b[0m\u001b[0;34m,\u001b[0m \u001b[0;34m'exposure_period'\u001b[0m\u001b[0;34m]\u001b[0m\u001b[0;34m)\u001b[0m\u001b[0;34m.\u001b[0m\u001b[0mfit\u001b[0m\u001b[0;34m(\u001b[0m\u001b[0;34m)\u001b[0m\u001b[0;34m)\u001b[0m\u001b[0;34m\u001b[0m\u001b[0;34m\u001b[0m\u001b[0m\n\u001b[0m",
      "\u001b[0;32m~/opt/anaconda3/lib/python3.9/site-packages/statsmodels/stats/anova.py\u001b[0m in \u001b[0;36m__init__\u001b[0;34m(self, data, depvar, subject, within, between, aggregate_func)\u001b[0m\n\u001b[1;32m    503\u001b[0m                 \u001b[0;32mraise\u001b[0m \u001b[0mValueError\u001b[0m\u001b[0;34m(\u001b[0m\u001b[0mmsg\u001b[0m\u001b[0;34m)\u001b[0m\u001b[0;34m\u001b[0m\u001b[0;34m\u001b[0m\u001b[0m\n\u001b[1;32m    504\u001b[0m \u001b[0;34m\u001b[0m\u001b[0m\n\u001b[0;32m--> 505\u001b[0;31m         \u001b[0mself\u001b[0m\u001b[0;34m.\u001b[0m\u001b[0m_check_data_balanced\u001b[0m\u001b[0;34m(\u001b[0m\u001b[0;34m)\u001b[0m\u001b[0;34m\u001b[0m\u001b[0;34m\u001b[0m\u001b[0m\n\u001b[0m\u001b[1;32m    506\u001b[0m \u001b[0;34m\u001b[0m\u001b[0m\n\u001b[1;32m    507\u001b[0m     \u001b[0;32mdef\u001b[0m \u001b[0m_aggregate\u001b[0m\u001b[0;34m(\u001b[0m\u001b[0mself\u001b[0m\u001b[0;34m)\u001b[0m\u001b[0;34m:\u001b[0m\u001b[0;34m\u001b[0m\u001b[0;34m\u001b[0m\u001b[0m\n",
      "\u001b[0;32m~/opt/anaconda3/lib/python3.9/site-packages/statsmodels/stats/anova.py\u001b[0m in \u001b[0;36m_check_data_balanced\u001b[0;34m(self)\u001b[0m\n\u001b[1;32m    535\u001b[0m         \u001b[0merror_message\u001b[0m \u001b[0;34m=\u001b[0m \u001b[0;34m\"Data is unbalanced.\"\u001b[0m\u001b[0;34m\u001b[0m\u001b[0;34m\u001b[0m\u001b[0m\n\u001b[1;32m    536\u001b[0m         \u001b[0;32mif\u001b[0m \u001b[0mlen\u001b[0m\u001b[0;34m(\u001b[0m\u001b[0mcell_count\u001b[0m\u001b[0;34m)\u001b[0m \u001b[0;34m!=\u001b[0m \u001b[0mfactor_levels\u001b[0m\u001b[0;34m:\u001b[0m\u001b[0;34m\u001b[0m\u001b[0;34m\u001b[0m\u001b[0m\n\u001b[0;32m--> 537\u001b[0;31m             \u001b[0;32mraise\u001b[0m \u001b[0mValueError\u001b[0m\u001b[0;34m(\u001b[0m\u001b[0merror_message\u001b[0m\u001b[0;34m)\u001b[0m\u001b[0;34m\u001b[0m\u001b[0;34m\u001b[0m\u001b[0m\n\u001b[0m\u001b[1;32m    538\u001b[0m         \u001b[0mcount\u001b[0m \u001b[0;34m=\u001b[0m \u001b[0mcell_count\u001b[0m\u001b[0;34m[\u001b[0m\u001b[0mkey\u001b[0m\u001b[0;34m]\u001b[0m\u001b[0;34m\u001b[0m\u001b[0;34m\u001b[0m\u001b[0m\n\u001b[1;32m    539\u001b[0m         \u001b[0;32mfor\u001b[0m \u001b[0mkey\u001b[0m \u001b[0;32min\u001b[0m \u001b[0mcell_count\u001b[0m\u001b[0;34m:\u001b[0m\u001b[0;34m\u001b[0m\u001b[0;34m\u001b[0m\u001b[0m\n",
      "\u001b[0;31mValueError\u001b[0m: Data is unbalanced."
     ]
    }
   ],
   "source": [
    "print(AnovaRM(data=species[\"mcav\"], depvar='SAD', subject='Sample', within=['Elevated', 'exposure_period']).fit())\n",
    "\n",
    "dependent_variables = [\"calcification_rate\", \"tissue_growth\", \"SAD\"]\n",
    "rms = {\"mcav\":{}, \"ofav\": {}, \"pcli\": {}}\n",
    "\n",
    "# Iterate over each species and each dependant variable that we care about\n",
    "for key in species:\n",
    "    for var in dependent_variables:\n",
    "        # Conduct a repeated measures ANOVA and save the result to a dictionary of dictionaries\n",
    "        rms[key][var] = AnovaRM(data=species[key], depvar=var, subject='Sample', within=['Elevated', 'exposure_period']).fit() "
   ]
  }
 ],
 "metadata": {
  "kernelspec": {
   "display_name": "Python 3.9.12 ('base')",
   "language": "python",
   "name": "python3"
  },
  "language_info": {
   "codemirror_mode": {
    "name": "ipython",
    "version": 3
   },
   "file_extension": ".py",
   "mimetype": "text/x-python",
   "name": "python",
   "nbconvert_exporter": "python",
   "pygments_lexer": "ipython3",
   "version": "3.9.7"
  },
  "orig_nbformat": 4,
  "vscode": {
   "interpreter": {
    "hash": "b52b534d3e8b2df8a7f375ea8b488ed7c2e546a5d77230d70bd2c6badbd8c861"
   }
  }
 },
 "nbformat": 4,
 "nbformat_minor": 2
}
