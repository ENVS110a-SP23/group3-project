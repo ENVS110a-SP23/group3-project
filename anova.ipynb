{
 "cells": [
  {
   "cell_type": "code",
   "execution_count": 15,
   "metadata": {},
   "outputs": [],
   "source": [
    "import pandas as pd\n",
    "import numpy as np\n",
    "from statsmodels.formula.api import ols\n",
    "from statsmodels.stats.anova import anova_lm, AnovaRM\n",
    "from statsmodels.stats.multicomp import pairwise_tukeyhsd"
   ]
  },
  {
   "cell_type": "code",
   "execution_count": 2,
   "metadata": {},
   "outputs": [
    {
     "data": {
      "text/html": [
       "<div>\n",
       "<style scoped>\n",
       "    .dataframe tbody tr th:only-of-type {\n",
       "        vertical-align: middle;\n",
       "    }\n",
       "\n",
       "    .dataframe tbody tr th {\n",
       "        vertical-align: top;\n",
       "    }\n",
       "\n",
       "    .dataframe thead th {\n",
       "        text-align: right;\n",
       "    }\n",
       "</style>\n",
       "<table border=\"1\" class=\"dataframe\">\n",
       "  <thead>\n",
       "    <tr style=\"text-align: right;\">\n",
       "      <th></th>\n",
       "      <th>species</th>\n",
       "      <th>island</th>\n",
       "      <th>bill_length_mm</th>\n",
       "      <th>bill_depth_mm</th>\n",
       "      <th>flipper_length_mm</th>\n",
       "      <th>body_mass_g</th>\n",
       "      <th>sex</th>\n",
       "      <th>year</th>\n",
       "    </tr>\n",
       "  </thead>\n",
       "  <tbody>\n",
       "    <tr>\n",
       "      <th>0</th>\n",
       "      <td>Adelie</td>\n",
       "      <td>Torgersen</td>\n",
       "      <td>39.1</td>\n",
       "      <td>18.7</td>\n",
       "      <td>181.0</td>\n",
       "      <td>3750.0</td>\n",
       "      <td>male</td>\n",
       "      <td>2007</td>\n",
       "    </tr>\n",
       "    <tr>\n",
       "      <th>1</th>\n",
       "      <td>Adelie</td>\n",
       "      <td>Torgersen</td>\n",
       "      <td>39.5</td>\n",
       "      <td>17.4</td>\n",
       "      <td>186.0</td>\n",
       "      <td>3800.0</td>\n",
       "      <td>female</td>\n",
       "      <td>2007</td>\n",
       "    </tr>\n",
       "    <tr>\n",
       "      <th>2</th>\n",
       "      <td>Adelie</td>\n",
       "      <td>Torgersen</td>\n",
       "      <td>40.3</td>\n",
       "      <td>18.0</td>\n",
       "      <td>195.0</td>\n",
       "      <td>3250.0</td>\n",
       "      <td>female</td>\n",
       "      <td>2007</td>\n",
       "    </tr>\n",
       "    <tr>\n",
       "      <th>3</th>\n",
       "      <td>Adelie</td>\n",
       "      <td>Torgersen</td>\n",
       "      <td>NaN</td>\n",
       "      <td>NaN</td>\n",
       "      <td>NaN</td>\n",
       "      <td>NaN</td>\n",
       "      <td>NaN</td>\n",
       "      <td>2007</td>\n",
       "    </tr>\n",
       "    <tr>\n",
       "      <th>4</th>\n",
       "      <td>Adelie</td>\n",
       "      <td>Torgersen</td>\n",
       "      <td>36.7</td>\n",
       "      <td>19.3</td>\n",
       "      <td>193.0</td>\n",
       "      <td>3450.0</td>\n",
       "      <td>female</td>\n",
       "      <td>2007</td>\n",
       "    </tr>\n",
       "  </tbody>\n",
       "</table>\n",
       "</div>"
      ],
      "text/plain": [
       "  species     island  bill_length_mm  bill_depth_mm  flipper_length_mm  \\\n",
       "0  Adelie  Torgersen            39.1           18.7              181.0   \n",
       "1  Adelie  Torgersen            39.5           17.4              186.0   \n",
       "2  Adelie  Torgersen            40.3           18.0              195.0   \n",
       "3  Adelie  Torgersen             NaN            NaN                NaN   \n",
       "4  Adelie  Torgersen            36.7           19.3              193.0   \n",
       "\n",
       "   body_mass_g     sex  year  \n",
       "0       3750.0    male  2007  \n",
       "1       3800.0  female  2007  \n",
       "2       3250.0  female  2007  \n",
       "3          NaN     NaN  2007  \n",
       "4       3450.0  female  2007  "
      ]
     },
     "execution_count": 2,
     "metadata": {},
     "output_type": "execute_result"
    }
   ],
   "source": [
    "penguins = pd.read_csv('/Users/fordfishman/GitHub/envs110/python/data/penguins.csv')\n",
    "penguins.head()"
   ]
  },
  {
   "cell_type": "code",
   "execution_count": 3,
   "metadata": {},
   "outputs": [],
   "source": [
    "penguins = penguins.loc[(penguins['species'].notnull()) & (penguins['bill_length_mm'].notnull()) & (penguins['sex'].notnull() ),:]"
   ]
  },
  {
   "cell_type": "code",
   "execution_count": 14,
   "metadata": {},
   "outputs": [
    {
     "data": {
      "text/html": [
       "<div>\n",
       "<style scoped>\n",
       "    .dataframe tbody tr th:only-of-type {\n",
       "        vertical-align: middle;\n",
       "    }\n",
       "\n",
       "    .dataframe tbody tr th {\n",
       "        vertical-align: top;\n",
       "    }\n",
       "\n",
       "    .dataframe thead th {\n",
       "        text-align: right;\n",
       "    }\n",
       "</style>\n",
       "<table border=\"1\" class=\"dataframe\">\n",
       "  <thead>\n",
       "    <tr style=\"text-align: right;\">\n",
       "      <th></th>\n",
       "      <th>df</th>\n",
       "      <th>sum_sq</th>\n",
       "      <th>mean_sq</th>\n",
       "      <th>F</th>\n",
       "      <th>PR(&gt;F)</th>\n",
       "    </tr>\n",
       "  </thead>\n",
       "  <tbody>\n",
       "    <tr>\n",
       "      <th>species</th>\n",
       "      <td>3.0</td>\n",
       "      <td>651492.203043</td>\n",
       "      <td>217164.067681</td>\n",
       "      <td>40501.388850</td>\n",
       "      <td>0.000000e+00</td>\n",
       "    </tr>\n",
       "    <tr>\n",
       "      <th>sex</th>\n",
       "      <td>1.0</td>\n",
       "      <td>1135.683888</td>\n",
       "      <td>1135.683888</td>\n",
       "      <td>211.806563</td>\n",
       "      <td>2.422971e-37</td>\n",
       "    </tr>\n",
       "    <tr>\n",
       "      <th>species:sex</th>\n",
       "      <td>2.0</td>\n",
       "      <td>24.494427</td>\n",
       "      <td>12.247213</td>\n",
       "      <td>2.284122</td>\n",
       "      <td>1.034865e-01</td>\n",
       "    </tr>\n",
       "    <tr>\n",
       "      <th>Residual</th>\n",
       "      <td>327.0</td>\n",
       "      <td>1753.338642</td>\n",
       "      <td>5.361892</td>\n",
       "      <td>NaN</td>\n",
       "      <td>NaN</td>\n",
       "    </tr>\n",
       "  </tbody>\n",
       "</table>\n",
       "</div>"
      ],
      "text/plain": [
       "                df         sum_sq        mean_sq             F        PR(>F)\n",
       "species        3.0  651492.203043  217164.067681  40501.388850  0.000000e+00\n",
       "sex            1.0    1135.683888    1135.683888    211.806563  2.422971e-37\n",
       "species:sex    2.0      24.494427      12.247213      2.284122  1.034865e-01\n",
       "Residual     327.0    1753.338642       5.361892           NaN           NaN"
      ]
     },
     "execution_count": 14,
     "metadata": {},
     "output_type": "execute_result"
    }
   ],
   "source": [
    "model = ols(formula='bill_length_mm ~ -1 + species*sex + sex + species', data=penguins).fit()\n",
    "anova_lm(model)"
   ]
  },
  {
   "cell_type": "code",
   "execution_count": 17,
   "metadata": {},
   "outputs": [
    {
     "data": {
      "text/html": [
       "<table class=\"simpletable\">\n",
       "<caption>OLS Regression Results</caption>\n",
       "<tr>\n",
       "  <th>Dep. Variable:</th>     <td>bill_length_mm</td>  <th>  R-squared:         </th> <td>   0.823</td> \n",
       "</tr>\n",
       "<tr>\n",
       "  <th>Model:</th>                   <td>OLS</td>       <th>  Adj. R-squared:    </th> <td>   0.821</td> \n",
       "</tr>\n",
       "<tr>\n",
       "  <th>Method:</th>             <td>Least Squares</td>  <th>  F-statistic:       </th> <td>   305.0</td> \n",
       "</tr>\n",
       "<tr>\n",
       "  <th>Date:</th>             <td>Tue, 18 Apr 2023</td> <th>  Prob (F-statistic):</th> <td>9.01e-121</td>\n",
       "</tr>\n",
       "<tr>\n",
       "  <th>Time:</th>                 <td>11:43:37</td>     <th>  Log-Likelihood:    </th> <td> -749.09</td> \n",
       "</tr>\n",
       "<tr>\n",
       "  <th>No. Observations:</th>      <td>   333</td>      <th>  AIC:               </th> <td>   1510.</td> \n",
       "</tr>\n",
       "<tr>\n",
       "  <th>Df Residuals:</th>          <td>   327</td>      <th>  BIC:               </th> <td>   1533.</td> \n",
       "</tr>\n",
       "<tr>\n",
       "  <th>Df Model:</th>              <td>     5</td>      <th>                     </th>     <td> </td>    \n",
       "</tr>\n",
       "<tr>\n",
       "  <th>Covariance Type:</th>      <td>nonrobust</td>    <th>                     </th>     <td> </td>    \n",
       "</tr>\n",
       "</table>\n",
       "<table class=\"simpletable\">\n",
       "<tr>\n",
       "                  <td></td>                    <th>coef</th>     <th>std err</th>      <th>t</th>      <th>P>|t|</th>  <th>[0.025</th>    <th>0.975]</th>  \n",
       "</tr>\n",
       "<tr>\n",
       "  <th>species[Adelie]</th>                  <td>   37.2575</td> <td>    0.271</td> <td>  137.473</td> <td> 0.000</td> <td>   36.724</td> <td>   37.791</td>\n",
       "</tr>\n",
       "<tr>\n",
       "  <th>species[Chinstrap]</th>               <td>   46.5735</td> <td>    0.397</td> <td>  117.279</td> <td> 0.000</td> <td>   45.792</td> <td>   47.355</td>\n",
       "</tr>\n",
       "<tr>\n",
       "  <th>species[Gentoo]</th>                  <td>   45.5638</td> <td>    0.304</td> <td>  149.856</td> <td> 0.000</td> <td>   44.966</td> <td>   46.162</td>\n",
       "</tr>\n",
       "<tr>\n",
       "  <th>sex[T.male]</th>                      <td>    3.1329</td> <td>    0.383</td> <td>    8.174</td> <td> 0.000</td> <td>    2.379</td> <td>    3.887</td>\n",
       "</tr>\n",
       "<tr>\n",
       "  <th>species[T.Chinstrap]:sex[T.male]</th> <td>    1.3877</td> <td>    0.680</td> <td>    2.041</td> <td> 0.042</td> <td>    0.050</td> <td>    2.725</td>\n",
       "</tr>\n",
       "<tr>\n",
       "  <th>species[T.Gentoo]:sex[T.male]</th>    <td>    0.7771</td> <td>    0.572</td> <td>    1.358</td> <td> 0.175</td> <td>   -0.348</td> <td>    1.902</td>\n",
       "</tr>\n",
       "</table>\n",
       "<table class=\"simpletable\">\n",
       "<tr>\n",
       "  <th>Omnibus:</th>       <td>42.630</td> <th>  Durbin-Watson:     </th> <td>   1.908</td>\n",
       "</tr>\n",
       "<tr>\n",
       "  <th>Prob(Omnibus):</th> <td> 0.000</td> <th>  Jarque-Bera (JB):  </th> <td> 102.154</td>\n",
       "</tr>\n",
       "<tr>\n",
       "  <th>Skew:</th>          <td> 0.630</td> <th>  Prob(JB):          </th> <td>6.57e-23</td>\n",
       "</tr>\n",
       "<tr>\n",
       "  <th>Kurtosis:</th>      <td> 5.403</td> <th>  Cond. No.          </th> <td>    6.02</td>\n",
       "</tr>\n",
       "</table><br/><br/>Notes:<br/>[1] Standard Errors assume that the covariance matrix of the errors is correctly specified."
      ],
      "text/plain": [
       "<class 'statsmodels.iolib.summary.Summary'>\n",
       "\"\"\"\n",
       "                            OLS Regression Results                            \n",
       "==============================================================================\n",
       "Dep. Variable:         bill_length_mm   R-squared:                       0.823\n",
       "Model:                            OLS   Adj. R-squared:                  0.821\n",
       "Method:                 Least Squares   F-statistic:                     305.0\n",
       "Date:                Tue, 18 Apr 2023   Prob (F-statistic):          9.01e-121\n",
       "Time:                        11:43:37   Log-Likelihood:                -749.09\n",
       "No. Observations:                 333   AIC:                             1510.\n",
       "Df Residuals:                     327   BIC:                             1533.\n",
       "Df Model:                           5                                         \n",
       "Covariance Type:            nonrobust                                         \n",
       "====================================================================================================\n",
       "                                       coef    std err          t      P>|t|      [0.025      0.975]\n",
       "----------------------------------------------------------------------------------------------------\n",
       "species[Adelie]                     37.2575      0.271    137.473      0.000      36.724      37.791\n",
       "species[Chinstrap]                  46.5735      0.397    117.279      0.000      45.792      47.355\n",
       "species[Gentoo]                     45.5638      0.304    149.856      0.000      44.966      46.162\n",
       "sex[T.male]                          3.1329      0.383      8.174      0.000       2.379       3.887\n",
       "species[T.Chinstrap]:sex[T.male]     1.3877      0.680      2.041      0.042       0.050       2.725\n",
       "species[T.Gentoo]:sex[T.male]        0.7771      0.572      1.358      0.175      -0.348       1.902\n",
       "==============================================================================\n",
       "Omnibus:                       42.630   Durbin-Watson:                   1.908\n",
       "Prob(Omnibus):                  0.000   Jarque-Bera (JB):              102.154\n",
       "Skew:                           0.630   Prob(JB):                     6.57e-23\n",
       "Kurtosis:                       5.403   Cond. No.                         6.02\n",
       "==============================================================================\n",
       "\n",
       "Notes:\n",
       "[1] Standard Errors assume that the covariance matrix of the errors is correctly specified.\n",
       "\"\"\""
      ]
     },
     "execution_count": 17,
     "metadata": {},
     "output_type": "execute_result"
    }
   ],
   "source": [
    "model.summary()"
   ]
  },
  {
   "cell_type": "code",
   "execution_count": 12,
   "metadata": {},
   "outputs": [
    {
     "data": {
      "text/plain": [
       "species[Adelie]                     37.257534\n",
       "species[Chinstrap]                  46.573529\n",
       "species[Gentoo]                     45.563793\n",
       "sex[T.male]                          3.132877\n",
       "species[T.Chinstrap]:sex[T.male]     1.387712\n",
       "species[T.Gentoo]:sex[T.male]        0.777101\n",
       "dtype: float64"
      ]
     },
     "execution_count": 12,
     "metadata": {},
     "output_type": "execute_result"
    }
   ],
   "source": [
    "model.params"
   ]
  },
  {
   "cell_type": "code",
   "execution_count": 10,
   "metadata": {},
   "outputs": [
    {
     "name": "stdout",
     "output_type": "stream",
     "text": [
      "Multiple Comparison of Means - Tukey HSD, FWER=0.05\n",
      "================================================\n",
      "group1 group2 meandiff p-adj lower upper  reject\n",
      "------------------------------------------------\n",
      "female   male   3.7578   0.0 2.649 4.8666   True\n",
      "------------------------------------------------\n"
     ]
    }
   ],
   "source": [
    "tukey = pairwise_tukeyhsd(endog=penguins['bill_length_mm'], groups=penguins['sex'], alpha=0.05)\n",
    "\n",
    "print(tukey)"
   ]
  },
  {
   "cell_type": "code",
   "execution_count": 16,
   "metadata": {},
   "outputs": [
    {
     "ename": "ValueError",
     "evalue": "The data set contains more than one observation per subject and cell. Either aggregate the data manually, or pass the `aggregate_func` parameter.",
     "output_type": "error",
     "traceback": [
      "\u001b[0;31m---------------------------------------------------------------------------\u001b[0m",
      "\u001b[0;31mValueError\u001b[0m                                Traceback (most recent call last)",
      "\u001b[1;32mUntitled-1.ipynb Cell 7'\u001b[0m in \u001b[0;36m<cell line: 1>\u001b[0;34m()\u001b[0m\n\u001b[0;32m----> <a href='vscode-notebook-cell:Untitled-1.ipynb?jupyter-notebook#ch0000010untitled?line=0'>1</a>\u001b[0m AnovaRM(data\u001b[39m=\u001b[39;49mpenguins, depvar\u001b[39m=\u001b[39;49m\u001b[39m'\u001b[39;49m\u001b[39mbill_length_mm\u001b[39;49m\u001b[39m'\u001b[39;49m, subject\u001b[39m=\u001b[39;49m\u001b[39m'\u001b[39;49m\u001b[39misland\u001b[39;49m\u001b[39m'\u001b[39;49m, within\u001b[39m=\u001b[39;49m[\u001b[39m'\u001b[39;49m\u001b[39mspecies\u001b[39;49m\u001b[39m'\u001b[39;49m])\u001b[39m.\u001b[39mfit()\n",
      "File \u001b[0;32m~/opt/anaconda3/lib/python3.9/site-packages/statsmodels/stats/anova.py:503\u001b[0m, in \u001b[0;36mAnovaRM.__init__\u001b[0;34m(self, data, depvar, subject, within, between, aggregate_func)\u001b[0m\n\u001b[1;32m    499\u001b[0m     \u001b[39melse\u001b[39;00m:\n\u001b[1;32m    500\u001b[0m         msg \u001b[39m=\u001b[39m (\u001b[39m'\u001b[39m\u001b[39mThe data set contains more than one observation per \u001b[39m\u001b[39m'\u001b[39m\n\u001b[1;32m    501\u001b[0m                \u001b[39m'\u001b[39m\u001b[39msubject and cell. Either aggregate the data manually, \u001b[39m\u001b[39m'\u001b[39m\n\u001b[1;32m    502\u001b[0m                \u001b[39m'\u001b[39m\u001b[39mor pass the `aggregate_func` parameter.\u001b[39m\u001b[39m'\u001b[39m)\n\u001b[0;32m--> 503\u001b[0m         \u001b[39mraise\u001b[39;00m \u001b[39mValueError\u001b[39;00m(msg)\n\u001b[1;32m    505\u001b[0m \u001b[39mself\u001b[39m\u001b[39m.\u001b[39m_check_data_balanced()\n",
      "\u001b[0;31mValueError\u001b[0m: The data set contains more than one observation per subject and cell. Either aggregate the data manually, or pass the `aggregate_func` parameter."
     ]
    }
   ],
   "source": [
    "AnovaRM(data=penguins, depvar='bill_length_mm', subject='island', within=['species']).fit()"
   ]
  }
 ],
 "metadata": {
  "kernelspec": {
   "display_name": "Python 3.9.12 ('base')",
   "language": "python",
   "name": "python3"
  },
  "language_info": {
   "codemirror_mode": {
    "name": "ipython",
    "version": 3
   },
   "file_extension": ".py",
   "mimetype": "text/x-python",
   "name": "python",
   "nbconvert_exporter": "python",
   "pygments_lexer": "ipython3",
   "version": "3.9.12"
  },
  "orig_nbformat": 4,
  "vscode": {
   "interpreter": {
    "hash": "b52b534d3e8b2df8a7f375ea8b488ed7c2e546a5d77230d70bd2c6badbd8c861"
   }
  }
 },
 "nbformat": 4,
 "nbformat_minor": 2
}
