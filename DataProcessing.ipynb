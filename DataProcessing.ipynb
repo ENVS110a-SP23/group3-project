{
 "cells": [
  {
   "attachments": {},
   "cell_type": "markdown",
   "metadata": {},
   "source": [
    "## Data Processing: Coral Reefs \n",
    "\n",
    "Group 3 \n",
    "Dani Madan, Dina Millerman, Jesse Levisohn"
   ]
  },
  {
   "attachments": {},
   "cell_type": "markdown",
   "metadata": {},
   "source": [
    "Read in data: "
   ]
  },
  {
   "cell_type": "code",
   "execution_count": 1,
   "metadata": {},
   "outputs": [],
   "source": [
    "import numpy as np \n",
    "import pandas as pd "
   ]
  },
  {
   "cell_type": "code",
   "execution_count": 54,
   "metadata": {},
   "outputs": [
    {
     "name": "stdout",
     "output_type": "stream",
     "text": [
      "['pH control', 'pH Elevated PCO2', 'Water Quality', 'Mcav Control', 'Mcav Elevated PCO2', 'Ofav Control', 'Ofav Elevated P CO2', 'Pcli Elevated PCO2', 'Pcli Control']\n"
     ]
    }
   ],
   "source": [
    "Cardbonate_Chemistry= '/Users/danimadan/Desktop/GitHub/group3-project/FINAL Cleaned Carbonate Chemistry, water quality and coral measurements (1).xlsx'\n",
    "data= pd.ExcelFile(Carbonate_Chemistry)\n",
    "\n",
    "#generating list of sheets \n",
    "sheet_names = data.sheet_names\n",
    "\n",
    "print(sheet_names)\n"
   ]
  },
  {
   "cell_type": "code",
   "execution_count": 60,
   "metadata": {},
   "outputs": [],
   "source": [
    "#loading all sheets as seperate dataframe objects\n",
    "ph_control = pd.read_excel(data, sheet_name = 'pH control')\n",
    "\n",
    "ph_elevated_pc02 = pd.read_excel(data, sheet_name ='pH Elevated PCO2')\n",
    "\n",
    "water_quality = pd.read_excel(data, sheet_name ='Water Quality')\n",
    "\n",
    "mcav_control = pd.read_excel(data, sheet_name ='Mcav Control')\n",
    "\n",
    "mcav_elevated_PC02 = pd.read_excel(data, sheet_name ='Mcav Elevated PCO2')\n",
    "\n",
    "ofav_control = pd.read_excel(data, sheet_name ='Ofav Control')\n",
    "\n",
    "ofav_evelavted_p_c02 = pd.read_excel(data, sheet_name = 'Ofav Elevated P CO2')\n",
    "\n",
    "pcli_evelvated_pc02 = pd.read_excel(data, sheet_name = 'Pcli Elevated PCO2')\n",
    "\n"
   ]
  },
  {
   "attachments": {},
   "cell_type": "markdown",
   "metadata": {},
   "source": [
    "Did each sheet seperately so data frames could have different names "
   ]
  },
  {
   "attachments": {},
   "cell_type": "markdown",
   "metadata": {},
   "source": [
    "**pH Control**"
   ]
  },
  {
   "cell_type": "code",
   "execution_count": 94,
   "metadata": {},
   "outputs": [
    {
     "name": "stdout",
     "output_type": "stream",
     "text": [
      "rows 112\n",
      "\n",
      "shape: (112, 4)\n",
      "\n",
      "Index(['Week', 'pH', 'Total Alkalinity (µmol/kg SW)  ', 'pCO2 (µatm)'], dtype='object')\n",
      "\n",
      "data types:  Week                                 int64\n",
      "pH                                 float64\n",
      "Total Alkalinity (µmol/kg SW)      float64\n",
      "pCO2 (µatm)                        float64\n",
      "dtype: object\n"
     ]
    }
   ],
   "source": [
    "# basic summary, shape, \n",
    "print('rows', len(ph_control))\n",
    "print()\n",
    "\n",
    "print('shape:', ph_control.shape)\n",
    "print()\n",
    "\n",
    "print(ph_control.columns)\n",
    "print()\n",
    "\n",
    "print('data types: ', ph_control.dtypes)\n",
    "\n"
   ]
  },
  {
   "attachments": {},
   "cell_type": "markdown",
   "metadata": {},
   "source": [
    "Summary Statistics "
   ]
  },
  {
   "cell_type": "code",
   "execution_count": 97,
   "metadata": {},
   "outputs": [
    {
     "data": {
      "text/plain": [
       "<bound method NDFrame.describe of      Week        pH  Total Alkalinity (µmol/kg SW)    pCO2 (µatm)\n",
       "0       1  8.053565                         3163.224      541.543\n",
       "1       1  8.043922                         3193.387      573.574\n",
       "2       1  8.052969                         3163.083      556.728\n",
       "3       1  8.039844                         3197.287      559.678\n",
       "4       1  8.052126                         3196.673      590.329\n",
       "..    ...       ...                              ...          ...\n",
       "107    12  7.965220                         2529.230      548.143\n",
       "108    12  7.994234                         2491.701      497.867\n",
       "109    12  7.947284                         2528.595      575.310\n",
       "110    12  7.960151                         2479.035      544.813\n",
       "111    12  7.948946                         2527.980      572.665\n",
       "\n",
       "[112 rows x 4 columns]>"
      ]
     },
     "execution_count": 97,
     "metadata": {},
     "output_type": "execute_result"
    }
   ],
   "source": [
    "ph_control.describe\n"
   ]
  },
  {
   "cell_type": "code",
   "execution_count": 93,
   "metadata": {},
   "outputs": [
    {
     "name": "stdout",
     "output_type": "stream",
     "text": [
      "Week                               0\n",
      "pH                                 2\n",
      "Total Alkalinity (µmol/kg SW)      9\n",
      "pCO2 (µatm)                        9\n",
      "dtype: int64\n"
     ]
    }
   ],
   "source": [
    "print(ph_control.isnull().sum()) "
   ]
  },
  {
   "attachments": {},
   "cell_type": "markdown",
   "metadata": {},
   "source": [
    "Getting some idea of missing data across different different variables "
   ]
  },
  {
   "attachments": {},
   "cell_type": "markdown",
   "metadata": {},
   "source": [
    "pH Elevated PC02"
   ]
  },
  {
   "cell_type": "code",
   "execution_count": 99,
   "metadata": {},
   "outputs": [
    {
     "data": {
      "text/plain": [
       "<bound method NDFrame.describe of      Week        pH  Total Alkalinity (µmol/kg SW)    pCO2 (µatm)\n",
       "0       1  7.729294                         3161.631     1282.497\n",
       "1       1  7.796756                         3196.183     1090.150\n",
       "2       1  7.798720                         3191.688     1081.661\n",
       "3       1  7.734609                         3161.603     1265.209\n",
       "4       1  7.870170                         3193.857      897.906\n",
       "..    ...       ...                              ...          ...\n",
       "107    12  7.591804                         2529.360          NaN\n",
       "108    12       NaN                         2487.414          NaN\n",
       "109    12       NaN                         2526.489          NaN\n",
       "110    12       NaN                         2477.968          NaN\n",
       "111    12       NaN                         2526.259          NaN\n",
       "\n",
       "[112 rows x 4 columns]>"
      ]
     },
     "execution_count": 99,
     "metadata": {},
     "output_type": "execute_result"
    }
   ],
   "source": [
    "ph_elevated_pc02.describe "
   ]
  },
  {
   "cell_type": "code",
   "execution_count": 98,
   "metadata": {},
   "outputs": [
    {
     "name": "stdout",
     "output_type": "stream",
     "text": [
      "Week                               0\n",
      "pH                                 2\n",
      "Total Alkalinity (µmol/kg SW)      9\n",
      "pCO2 (µatm)                        9\n",
      "dtype: int64\n"
     ]
    }
   ],
   "source": [
    "print(ph_elevated_pc02.isnull().sum()) "
   ]
  },
  {
   "attachments": {},
   "cell_type": "markdown",
   "metadata": {},
   "source": [
    "Water Quality "
   ]
  },
  {
   "cell_type": "code",
   "execution_count": 85,
   "metadata": {},
   "outputs": [
    {
     "data": {
      "text/plain": [
       "<bound method NDFrame.describe of                    Date  Temp (°C)  Salinity (am)  Salinity (pm)  Unnamed: 4  \\\n",
       "0   2015-06-24 00:00:00  25.300000      35.000000           35.0         NaN   \n",
       "1   2015-06-25 00:00:00  25.400000      34.900000           34.9         NaN   \n",
       "2   2015-06-26 00:00:00  25.500000      35.000000           35.0         NaN   \n",
       "3   2015-06-27 00:00:00  25.700000      35.000000            NaN         NaN   \n",
       "4   2015-06-28 00:00:00  25.700000      35.000000            NaN         NaN   \n",
       "..                  ...        ...            ...            ...         ...   \n",
       "91  2015-09-23 00:00:00  25.500000      35.000000           35.0         NaN   \n",
       "92  2015-09-24 00:00:00  25.500000      35.000000           35.0         NaN   \n",
       "93                  NaN        NaN            NaN            NaN         NaN   \n",
       "94              Average  25.760215      34.999367            NaN         NaN   \n",
       "95                   SD   0.228958       0.055862            NaN         NaN   \n",
       "\n",
       "    Unnamed: 5               Date.1  Ca 2+ (ppm)  Mg (ppm)  PO4 (ppm)  \\\n",
       "0          NaN  2015-06-29 00:00:00        445.0    1335.0       0.03   \n",
       "1          NaN  2015-07-06 00:00:00        455.0    1290.0        NaN   \n",
       "2          NaN  2015-07-13 00:00:00        475.0    1275.0        NaN   \n",
       "3          NaN  2015-07-17 00:00:00          NaN       NaN       0.01   \n",
       "4          NaN  2015-07-20 00:00:00        460.0    1380.0        NaN   \n",
       "..         ...                  ...          ...       ...        ...   \n",
       "91         NaN                  NaN          NaN       NaN        NaN   \n",
       "92         NaN                  NaN          NaN       NaN        NaN   \n",
       "93         NaN                  NaN          NaN       NaN        NaN   \n",
       "94         NaN                  NaN          NaN       NaN        NaN   \n",
       "95         NaN                  NaN          NaN       NaN        NaN   \n",
       "\n",
       "    NH3 (ppm)  NO3 (ppm)  \n",
       "0        0.01        0.0  \n",
       "1         NaN        NaN  \n",
       "2        0.00        0.0  \n",
       "3         NaN        NaN  \n",
       "4         NaN        NaN  \n",
       "..        ...        ...  \n",
       "91        NaN        NaN  \n",
       "92        NaN        NaN  \n",
       "93        NaN        NaN  \n",
       "94        NaN        NaN  \n",
       "95        NaN        NaN  \n",
       "\n",
       "[96 rows x 12 columns]>"
      ]
     },
     "execution_count": 85,
     "metadata": {},
     "output_type": "execute_result"
    }
   ],
   "source": [
    "water_quality.describe"
   ]
  },
  {
   "cell_type": "code",
   "execution_count": null,
   "metadata": {},
   "outputs": [],
   "source": [
    "print(water_quality.isnull().sum()) "
   ]
  },
  {
   "attachments": {},
   "cell_type": "markdown",
   "metadata": {},
   "source": [
    "MCav Control"
   ]
  },
  {
   "cell_type": "code",
   "execution_count": 89,
   "metadata": {},
   "outputs": [
    {
     "data": {
      "text/plain": [
       "<bound method NDFrame._add_numeric_operations.<locals>.mean of     Day Measured  Buoyant Weight (g)  Tissue Surface Area (mm2)  \\\n",
       "0              0               6.324                 460.334229   \n",
       "1              0              10.884                 371.589485   \n",
       "2              0              10.688                 336.126880   \n",
       "3              0               8.580                 322.336520   \n",
       "4              0              10.891                 487.997296   \n",
       "5              0               5.395                 344.205078   \n",
       "6              0               7.334                 583.077694   \n",
       "7              0              11.103                 378.359672   \n",
       "8              0               8.109                 378.336144   \n",
       "9              0               9.922                 455.513191   \n",
       "10            28               6.418                 743.299821   \n",
       "11            28              11.088                 521.721034   \n",
       "12            28              10.923                 566.888947   \n",
       "13            28               8.663                 610.816492   \n",
       "14            28              10.914                 652.652984   \n",
       "15            28               5.345                 565.208164   \n",
       "16            28               7.481                 829.096945   \n",
       "17            28              11.213                 603.455898   \n",
       "18            28               8.294                 648.178984   \n",
       "19            28              10.091                 745.904814   \n",
       "20            56               6.612                 884.609098   \n",
       "21            56              11.213                 542.416867   \n",
       "22            56              11.482                 656.002786   \n",
       "23            56               9.105                 659.770210   \n",
       "24            56              11.229                 831.543123   \n",
       "25            56               5.556                 698.481152   \n",
       "26            56               7.661                1002.782245   \n",
       "27            56              11.696                 647.297419   \n",
       "28            56               8.513                 726.861824   \n",
       "29            56              10.311                 843.269635   \n",
       "30            84               6.705                 928.916768   \n",
       "31            84              11.364                 512.484081   \n",
       "32            84              11.278                 613.225908   \n",
       "33            84               9.412                 683.820991   \n",
       "34            84              11.330                 815.561717   \n",
       "35            84               5.648                 779.115347   \n",
       "36            84               7.815                1012.217716   \n",
       "37            84              11.634                 636.070878   \n",
       "38            84               8.669                 753.510981   \n",
       "39            84              10.202                 916.306485   \n",
       "\n",
       "    Surface Area Density (g/mm2)  Calcification rate (mgCaCO3/cm2/day)  \\\n",
       "0                      72.791624                                   NaN   \n",
       "1                      34.140894                                   NaN   \n",
       "2                      31.448997                                   NaN   \n",
       "3                      37.568359                                   NaN   \n",
       "4                      44.807391                                   NaN   \n",
       "5                      63.800756                                   NaN   \n",
       "6                      79.503367                                   NaN   \n",
       "7                      34.077247                                   NaN   \n",
       "8                      46.656326                                   NaN   \n",
       "9                      45.909412                                   NaN   \n",
       "10                    115.814868                              1.482143   \n",
       "11                     47.052763                             -0.892857   \n",
       "12                     51.898649                              3.642857   \n",
       "13                     70.508657                              3.303571   \n",
       "14                     59.799614                              0.410714   \n",
       "15                    105.745213                              3.017857   \n",
       "16                    110.827021                              2.625000   \n",
       "17                     53.817524                              1.964286   \n",
       "18                     78.150348                              1.678571   \n",
       "19                     73.917829                              4.196429   \n",
       "20                    133.788430                              7.892857   \n",
       "21                     48.373929                              3.767857   \n",
       "22                     57.133146                              2.232143   \n",
       "23                     72.462406                              3.910714   \n",
       "24                     74.053177                              5.625000   \n",
       "25                    125.716550                              3.928571   \n",
       "26                    130.894432                              3.214286   \n",
       "27                     55.343487                              8.625000   \n",
       "28                     85.382571                              3.464286   \n",
       "29                     81.783497                              9.982143   \n",
       "30                    138.540905                              5.116667   \n",
       "31                     45.097156                              1.533333   \n",
       "32                     54.373640                              2.516667   \n",
       "33                     72.654164                              2.600000   \n",
       "34                     71.982499                              1.683333   \n",
       "35                    137.945352                             -1.816667   \n",
       "36                    129.522420                              2.566667   \n",
       "37                     54.673447                             -1.033333   \n",
       "38                     86.920173                              1.550000   \n",
       "39                     89.816358                             -3.400000   \n",
       "\n",
       "    Tissue growth (mm2/day)  % change Surface Area Density  \n",
       "0                       NaN                            NaN  \n",
       "1                       NaN                            NaN  \n",
       "2                       NaN                            NaN  \n",
       "3                       NaN                            NaN  \n",
       "4                       NaN                            NaN  \n",
       "5                       NaN                            NaN  \n",
       "6                       NaN                            NaN  \n",
       "7                       NaN                            NaN  \n",
       "8                       NaN                            NaN  \n",
       "9                       NaN                            NaN  \n",
       "10                10.105914                      59.104663  \n",
       "11                 5.361841                      37.819365  \n",
       "12                 8.241502                      65.024816  \n",
       "13                10.302856                      87.680959  \n",
       "14                 5.880560                      33.459263  \n",
       "15                 7.892967                      65.742884  \n",
       "16                 8.786402                      39.399154  \n",
       "17                 8.039151                      57.928028  \n",
       "18                 9.637244                      67.502148  \n",
       "19                10.371129                      61.008005  \n",
       "20                 5.046760                      15.519218  \n",
       "21                 0.739137                       2.807840  \n",
       "22                 3.182637                      10.085998  \n",
       "23                 1.748347                       2.770936  \n",
       "24                 6.388934                      23.835544  \n",
       "25                 4.759750                      18.886280  \n",
       "26                 6.203046                      18.106966  \n",
       "27                 1.565769                       2.835438  \n",
       "28                 2.810101                       9.254243  \n",
       "29                 3.477315                      10.641097  \n",
       "30                 1.476922                       3.552232  \n",
       "31                -0.997760                      -6.773841  \n",
       "32                -1.425896                      -4.829957  \n",
       "33                 0.801693                       0.264630  \n",
       "34                -0.532714                      -2.796204  \n",
       "35                 2.687806                       9.727281  \n",
       "36                 0.314516                      -1.048182  \n",
       "37                -0.374218                      -1.210693  \n",
       "38                 0.888305                       1.800839  \n",
       "39                 2.434562                       9.822106  >"
      ]
     },
     "execution_count": 89,
     "metadata": {},
     "output_type": "execute_result"
    }
   ],
   "source": [
    "mcav_control.describe"
   ]
  },
  {
   "cell_type": "code",
   "execution_count": null,
   "metadata": {},
   "outputs": [],
   "source": [
    "print(mcav_control.isnull().sum()) "
   ]
  },
  {
   "attachments": {},
   "cell_type": "markdown",
   "metadata": {},
   "source": [
    "MCAV Evelvated PC02"
   ]
  },
  {
   "cell_type": "code",
   "execution_count": 87,
   "metadata": {},
   "outputs": [
    {
     "data": {
      "text/plain": [
       "<bound method NDFrame.describe of     Day Measured   Buoyant Weight (g)  Tissue Surface Area (mm2)  \\\n",
       "0               0              11.761                 586.076045   \n",
       "1               0               9.860                 396.305668   \n",
       "2               0               5.072                 371.424789   \n",
       "3               0               9.547                 324.182734   \n",
       "4               0               9.769                 354.519908   \n",
       "5               0               5.664                 359.114489   \n",
       "6               0               9.257                 384.604155   \n",
       "7               0               9.077                 395.581446   \n",
       "8               0               6.923                 370.289562   \n",
       "9               0               7.872                 354.055230   \n",
       "10             28              11.826                 742.610156   \n",
       "11             28              10.114                 612.378899   \n",
       "12             28               5.251                 552.006740   \n",
       "13             28               9.657                 625.908980   \n",
       "14             28              10.011                 497.573935   \n",
       "15             28               5.669                 543.467540   \n",
       "16             28               9.334                 569.063818   \n",
       "17             28               9.093                 646.078374   \n",
       "18             28               6.984                 649.327446   \n",
       "19             28               7.974                 530.116125   \n",
       "20             56              12.176                 863.302272   \n",
       "21             56              10.363                 685.659117   \n",
       "22             56               5.290                 640.342684   \n",
       "23             56              10.426                 693.782166   \n",
       "24             56              10.445                 605.057274   \n",
       "25             56               5.906                 608.065919   \n",
       "26             56               9.476                 622.099647   \n",
       "27             56               9.684                 698.091469   \n",
       "28             56               7.281                 749.322258   \n",
       "29             56               8.145                 664.665508   \n",
       "30             84              12.008                 864.170603   \n",
       "31             84              10.111                 635.059173   \n",
       "32             84               5.629                 715.727925   \n",
       "33             84              10.416                 682.271083   \n",
       "34             84              10.721                 599.984045   \n",
       "35             84               5.920                 628.769105   \n",
       "36             84               9.834                 623.251785   \n",
       "37             84               9.705                 723.404676   \n",
       "38             84               7.299                 765.969802   \n",
       "39             84               8.137                 740.005898   \n",
       "\n",
       "    Surface Area Density (g/mm2)  Calcification rate (mgCaCO3/cm2/day)  \\\n",
       "0                      49.832161                                   NaN   \n",
       "1                      40.193273                                   NaN   \n",
       "2                      73.230439                                   NaN   \n",
       "3                      33.956503                                   NaN   \n",
       "4                      36.290297                                   NaN   \n",
       "5                      63.402982                                   NaN   \n",
       "6                      41.547386                                   NaN   \n",
       "7                      43.580637                                   NaN   \n",
       "8                      53.486864                                   NaN   \n",
       "9                      44.976528                                   NaN   \n",
       "10                     62.794703                              3.196429   \n",
       "11                     60.547647                              0.285714   \n",
       "12                    105.124117                              4.321429   \n",
       "13                     64.814019                              1.375000   \n",
       "14                     49.702720                              1.160714   \n",
       "15                     95.866562                              0.089286   \n",
       "16                     60.966769                              4.535714   \n",
       "17                     71.052279                              1.821429   \n",
       "18                     92.973575                              1.964286   \n",
       "19                     66.480577                              1.089286   \n",
       "20                     70.901961                              0.696429   \n",
       "21                     66.164153                             10.553571   \n",
       "22                    121.047766                              7.750000   \n",
       "23                     66.543465                              2.535714   \n",
       "24                     57.927934                              6.250000   \n",
       "25                    102.957318                              4.232143   \n",
       "26                     65.650026                              4.446429   \n",
       "27                     72.087099                              3.053571   \n",
       "28                    102.914745                             13.732143   \n",
       "29                     81.604114                              5.303571   \n",
       "30                     71.966239                              5.650000   \n",
       "31                     62.808740                              0.350000   \n",
       "32                    127.150102                              4.600000   \n",
       "33                     65.502216                              5.966667   \n",
       "34                     55.963440                             -2.800000   \n",
       "35                    106.210997                              0.233333   \n",
       "36                     63.377241                             -4.200000   \n",
       "37                     74.539379                             -0.133333   \n",
       "38                    104.941746                             -0.166667   \n",
       "39                     90.943333                              0.300000   \n",
       "\n",
       "    Tissue growth (mm2/day)  % change Surface Area Density  \n",
       "0                       NaN                            NaN  \n",
       "1                       NaN                            NaN  \n",
       "2                       NaN                            NaN  \n",
       "3                       NaN                            NaN  \n",
       "4                       NaN                            NaN  \n",
       "5                       NaN                            NaN  \n",
       "6                       NaN                            NaN  \n",
       "7                       NaN                            NaN  \n",
       "8                       NaN                            NaN  \n",
       "9                       NaN                            NaN  \n",
       "10                 5.590504                      26.012402  \n",
       "11                 7.716901                      50.641246  \n",
       "12                 6.449355                      43.552487  \n",
       "13                10.775937                      90.873656  \n",
       "14                 5.109072                      36.958705  \n",
       "15                 6.584038                      51.201977  \n",
       "16                 6.587845                      46.740322  \n",
       "17                 8.946319                      63.036346  \n",
       "18                 9.965639                      73.825061  \n",
       "19                 6.287889                      47.811715  \n",
       "20                 4.310433                      12.910735  \n",
       "21                 2.617151                       9.276176  \n",
       "22                 3.154855                      15.147475  \n",
       "23                 2.424042                       2.668321  \n",
       "24                 3.838691                      16.548820  \n",
       "25                 2.307085                       7.396485  \n",
       "26                 1.894137                       7.681656  \n",
       "27                 1.857611                       1.456421  \n",
       "28                 3.571243                      10.692469  \n",
       "29                 4.805335                      22.748804  \n",
       "30                 0.028944                       1.501057  \n",
       "31                -1.686665                      -5.071345  \n",
       "32                 2.512841                       5.041263  \n",
       "33                -0.383703                      -1.564765  \n",
       "34                -0.169108                      -3.391272  \n",
       "35                 0.690106                       3.160222  \n",
       "36                 0.038405                      -3.461972  \n",
       "37                 0.843774                       3.401829  \n",
       "38                 0.554918                       1.969592  \n",
       "39                 2.511346                      11.444544  >"
      ]
     },
     "execution_count": 87,
     "metadata": {},
     "output_type": "execute_result"
    }
   ],
   "source": [
    "mcav_elevated_PC02.describe"
   ]
  },
  {
   "cell_type": "code",
   "execution_count": null,
   "metadata": {},
   "outputs": [],
   "source": [
    "print(mcav_elevated_PC02.isnull().sum()) "
   ]
  },
  {
   "attachments": {},
   "cell_type": "markdown",
   "metadata": {},
   "source": [
    "Ofav Control "
   ]
  },
  {
   "cell_type": "code",
   "execution_count": null,
   "metadata": {},
   "outputs": [],
   "source": [
    "ofav_control.describe"
   ]
  },
  {
   "cell_type": "code",
   "execution_count": null,
   "metadata": {},
   "outputs": [],
   "source": [
    "print(ofav_control.isnull().sum()) "
   ]
  },
  {
   "attachments": {},
   "cell_type": "markdown",
   "metadata": {},
   "source": [
    "Ofav Elevated PC02"
   ]
  },
  {
   "cell_type": "code",
   "execution_count": 91,
   "metadata": {},
   "outputs": [
    {
     "data": {
      "text/plain": [
       "<bound method NDFrame.describe of     Date data was taken  Buoyant Weight (g)  Tissue Surface Area (mm2)  \\\n",
       "0                     0               9.283                 487.961269   \n",
       "1                     0               6.822                 272.117436   \n",
       "2                     0               7.452                 270.320483   \n",
       "3                     0              10.543                 385.790850   \n",
       "4                     0               8.394                 258.393249   \n",
       "5                     0               9.132                 240.789144   \n",
       "6                     0               6.198                 257.039652   \n",
       "7                     0               7.792                 397.274728   \n",
       "8                     0              10.709                 430.378650   \n",
       "9                     0               8.256                 269.024237   \n",
       "10                   28               9.254                 658.960699   \n",
       "11                   28               6.744                 316.125123   \n",
       "12                   28               7.422                 336.839338   \n",
       "13                   28              10.575                 600.303879   \n",
       "14                   28               8.338                 525.565659   \n",
       "15                   28               9.057                 250.203293   \n",
       "16                   28               6.237                 245.455045   \n",
       "17                   28               7.805                 585.390057   \n",
       "18                   28              10.545                 502.020730   \n",
       "19                   28               8.185                 513.563429   \n",
       "20                   56               9.413                 673.103979   \n",
       "21                   56               6.841                 269.541118   \n",
       "22                   56               7.398                 185.671821   \n",
       "23                   56              10.933                 616.647764   \n",
       "24                   56               8.647                 249.648914   \n",
       "25                   56               9.203                 197.449064   \n",
       "26                   56               6.249                 195.938860   \n",
       "27                   56               8.058                 598.820879   \n",
       "28                   56              11.084                 522.951843   \n",
       "29                   56               8.261                 230.658127   \n",
       "30                   84               9.540                 575.167868   \n",
       "31                   84               6.736                 252.374488   \n",
       "32                   84               7.441                 212.757717   \n",
       "33                   84              11.057                 629.381568   \n",
       "34                   84               8.683                 227.552428   \n",
       "35                   84               9.220                 212.056288   \n",
       "36                   84               6.331                 198.369598   \n",
       "37                   84               8.217                 692.114617   \n",
       "38                   84              10.915                 462.637769   \n",
       "39                   84               8.270                 186.229876   \n",
       "\n",
       "    Surface Area Density (g/mm2)  Calcification rate (mgCaCO3/cm2/day)  \\\n",
       "0                      52.565040                                   NaN   \n",
       "1                      39.888220                                   NaN   \n",
       "2                      36.274890                                   NaN   \n",
       "3                      36.592132                                   NaN   \n",
       "4                      30.783089                                   NaN   \n",
       "5                      26.367624                                   NaN   \n",
       "6                      41.471386                                   NaN   \n",
       "7                      50.984950                                   NaN   \n",
       "8                      40.188500                                   NaN   \n",
       "9                      32.585300                                   NaN   \n",
       "10                     71.208202                              0.571429   \n",
       "11                     46.875018                             -1.000000   \n",
       "12                     45.383904                             -2.928571   \n",
       "13                     56.766324                             -0.535714   \n",
       "14                     63.032581                             -1.392857   \n",
       "15                     27.625405                              0.232143   \n",
       "16                     39.354665                             -1.339286   \n",
       "17                     75.001929                              0.696429   \n",
       "18                     47.607466                             -0.517857   \n",
       "19                     62.744463                             -1.267857   \n",
       "20                     71.507912                              6.392857   \n",
       "21                     39.400836                              5.517857   \n",
       "22                     25.097570                              9.625000   \n",
       "23                     56.402430                             -0.428571   \n",
       "24                     28.871159                              1.732143   \n",
       "25                     21.454859                              4.517857   \n",
       "26                     31.355234                              2.607143   \n",
       "27                     74.313835                              0.214286   \n",
       "28                     47.180787                              2.839286   \n",
       "29                     27.921332                              1.357143   \n",
       "30                     60.290133                              2.066667   \n",
       "31                     37.466521                              0.600000   \n",
       "32                     28.592624                             -2.816667   \n",
       "33                     56.921549                              0.716667   \n",
       "34                     26.206660                             -1.750000   \n",
       "35                     22.999597                              2.650000   \n",
       "36                     31.333059                              0.283333   \n",
       "37                     84.229599                              1.366667   \n",
       "38                     42.385503                              2.116667   \n",
       "39                     22.518727                              0.150000   \n",
       "\n",
       "    Tissue growth (mm2/day)  % change Surface Area Density  \n",
       "0                       NaN                            NaN  \n",
       "1                       NaN                            NaN  \n",
       "2                       NaN                            NaN  \n",
       "3                       NaN                            NaN  \n",
       "4                       NaN                            NaN  \n",
       "5                       NaN                            NaN  \n",
       "6                       NaN                            NaN  \n",
       "7                       NaN                            NaN  \n",
       "8                       NaN                            NaN  \n",
       "9                       NaN                            NaN  \n",
       "10                 6.107123                      35.466845  \n",
       "11                 1.571703                      17.515944  \n",
       "12                 2.375673                      25.111072  \n",
       "13                 7.661180                      55.132595  \n",
       "14                 9.541872                     104.763664  \n",
       "15                 0.336220                       4.770171  \n",
       "16                -0.413736                      -5.104053  \n",
       "17                 6.718405                      47.106017  \n",
       "18                 2.558646                      18.460420  \n",
       "19                 8.733543                      92.554504  \n",
       "20                 0.505117                       0.420893  \n",
       "21                -1.663714                     -15.944916  \n",
       "22                -5.398840                     -44.699404  \n",
       "23                 0.583710                      -0.641039  \n",
       "24                -9.854169                     -54.196451  \n",
       "25                -1.884080                     -22.336492  \n",
       "26                -1.768435                     -20.326511  \n",
       "27                 0.479672                      -0.917436  \n",
       "28                 0.747540                      -0.896244  \n",
       "29               -10.103761                     -55.499926  \n",
       "30                -3.264537                     -15.687466  \n",
       "31                -0.572221                      -4.909324  \n",
       "32                 0.902863                      13.925868  \n",
       "33                 0.424460                       0.920385  \n",
       "34                -0.736550                      -9.228931  \n",
       "35                 0.486907                       7.199948  \n",
       "36                 0.081025                      -0.070722  \n",
       "37                 3.109791                      13.343094  \n",
       "38                -2.010469                     -10.163637  \n",
       "39                -1.480942                     -19.349381  >"
      ]
     },
     "execution_count": 91,
     "metadata": {},
     "output_type": "execute_result"
    }
   ],
   "source": [
    "ofav_evelavted_p_c02.describe"
   ]
  },
  {
   "cell_type": "code",
   "execution_count": null,
   "metadata": {},
   "outputs": [],
   "source": [
    "print(ofav_evelavted_p_c02.isnull().sum()) "
   ]
  }
 ],
 "metadata": {
  "kernelspec": {
   "display_name": "base",
   "language": "python",
   "name": "python3"
  },
  "language_info": {
   "codemirror_mode": {
    "name": "ipython",
    "version": 3
   },
   "file_extension": ".py",
   "mimetype": "text/x-python",
   "name": "python",
   "nbconvert_exporter": "python",
   "pygments_lexer": "ipython3",
   "version": "3.9.13"
  },
  "orig_nbformat": 4
 },
 "nbformat": 4,
 "nbformat_minor": 2
}
